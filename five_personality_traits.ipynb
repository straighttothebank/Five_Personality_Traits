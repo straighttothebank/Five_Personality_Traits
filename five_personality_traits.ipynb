{
 "cells": [
  {
   "cell_type": "code",
   "execution_count": null,
   "id": "db2c0dcf",
   "metadata": {},
   "outputs": [],
   "source": [
    "#Importing modules\n",
    "\n",
    "import numpy as np\n",
    "import pandas as pd\n",
    "import matplotlib.pyplot as plt\n",
    "import seaborn as sns\n",
    "import os\n",
    "from io import open\n",
    "pd.options.display.max_columns = 150\n"
   ]
  },
  {
   "cell_type": "code",
   "execution_count": null,
   "id": "2cfe0b3d",
   "metadata": {},
   "outputs": [],
   "source": [
    "#Loading dataset\n",
    "\n",
    "#Obs.: This dataset are using TAB for separation values, then we use sep='\\t'.\n",
    "\n",
    "data = pd.read_csv('data-final.csv', sep='\\t')\n",
    "\n",
    "#Deleting all columns that we will not use (responding time, country, etc)\n",
    "\n",
    "data.drop(data.columns[50:110], axis=1, inplace=True)\n"
   ]
  },
  {
   "cell_type": "code",
   "execution_count": null,
   "id": "1410c363",
   "metadata": {},
   "outputs": [],
   "source": [
    "#Analising statistics in dataset\n",
    "\n",
    "#Setting values to float\n",
    "pd.options.display.float_format = \"{:.2f}\".format\n",
    "\n",
    "#Show the statistics analysis\n",
    "data.describe()\n",
    "\n",
    "#Obs.: Was identified answers with 0 as value. Althrough the minimal is 1.\n",
    "#Must need to repair this divergence\n",
    "\n",
    "data[\"EXT1\"].value_counts()"
   ]
  },
  {
   "cell_type": "code",
   "execution_count": null,
   "id": "d7fd77cc",
   "metadata": {},
   "outputs": [],
   "source": [
    "#Select all data with value equal zero\n",
    "\n",
    "data[(data==0.00).all(axis=1)].describe()"
   ]
  },
  {
   "cell_type": "code",
   "execution_count": null,
   "id": "b0e42fb2",
   "metadata": {},
   "outputs": [],
   "source": [
    "#Cleaning all the data equal zero\n",
    "data = data[(data>0.00).all(axis=1)]\n",
    "data[\"EXT1\"].value_counts()"
   ]
  },
  {
   "cell_type": "code",
   "execution_count": null,
   "id": "8a99d17d",
   "metadata": {},
   "outputs": [],
   "source": [
    "#Search the amount of clusters\n",
    "\n",
    "#Importing modules\n",
    "from sklearn.cluster import KMeans\n",
    "from yellowbrick.cluster import KElbowVisualizer"
   ]
  },
  {
   "cell_type": "code",
   "execution_count": null,
   "id": "991495c5",
   "metadata": {},
   "outputs": [],
   "source": [
    "#Setting KMeans and Visualizar\n",
    "kmeans = KMeans()\n",
    "\n",
    "#Setting k = 2 for kmeans (testing groups)\n",
    "visualizer = KElbowVisualizer(kmeans,k=(2,10))\n",
    "\n",
    "#Setting sample to 5000 items\n",
    "data_sample = data.sample(n=5000, random_state = 1)\n",
    "\n",
    "#Testing\n",
    "visualizer.fit(data_sample)\n",
    "visualizer.poof()\n",
    "\n",
    "#Result: The KMeans Distortion Score indicates k=5"
   ]
  },
  {
   "cell_type": "code",
   "execution_count": null,
   "id": "46cd647e",
   "metadata": {},
   "outputs": [],
   "source": [
    "#Grouping the data in 5 clusters\n",
    "kmeans = KMeans(n_clusters = 5)\n",
    "k_fit = kmeans.fit(data)"
   ]
  },
  {
   "cell_type": "code",
   "execution_count": null,
   "id": "f8d0ab64",
   "metadata": {},
   "outputs": [],
   "source": [
    "#Naming the clusters\n",
    "pred = k_fit.labels_\n",
    "data['Clusters'] = pred\n",
    "\n",
    "#Checking\n",
    "data.head()\n",
    "\n",
    "#data['Clusters'].value_counts()\n",
    "\n",
    "#Ok, now we can identify a answer by his cluster!"
   ]
  },
  {
   "cell_type": "code",
   "execution_count": null,
   "id": "1e1edfe1",
   "metadata": {},
   "outputs": [],
   "source": [
    "#But if i need to identify the means of a cluster, what can i must to do?\n",
    "#First i need to group data by clusters and get the mean\n",
    "#Second i need to group the columns by the type of answer and get the mean (total/10)\n",
    "\n",
    "#Grouping by clusters and mean\n",
    "data.groupby('Clusters').mean()"
   ]
  },
  {
   "cell_type": "code",
   "execution_count": null,
   "id": "d37105ae",
   "metadata": {},
   "outputs": [],
   "source": [
    "#Setting columns of each group\n",
    "col_list = list(data)\n",
    "EXT = col_list[0:10]\n",
    "EST = col_list[10:20]\n",
    "AGR = col_list[20:30]\n",
    "CSN = col_list[30:40]\n",
    "OPN = col_list[40:50]\n",
    "\n",
    "#Sum columns with the same type of personality and extract the mean\n",
    "data_sum = pd.DataFrame()\n",
    "data_sum['EXTROVERSION'] = data[EXT].sum(axis=1)/10\n",
    "data_sum['NEUROTIC'] = data[EST].sum(axis=1)/10\n",
    "data_sum['AGREEABLE'] = data[AGR].sum(axis=1)/10\n",
    "data_sum['CONSCIENTIOUS'] = data[CSN].sum(axis=1)/10\n",
    "data_sum['OPEN'] = data[OPN].sum(axis=1)/10\n",
    "data_sum['clusters'] = pred\n",
    "\n",
    "#Grouping the dataframe by clusters\n",
    "data_sum.groupby('clusters').mean()\n",
    "\n",
    "data_clusters = data_sum.groupby('clusters').mean()"
   ]
  },
  {
   "cell_type": "code",
   "execution_count": null,
   "id": "51e4c5dc",
   "metadata": {
    "scrolled": false
   },
   "outputs": [],
   "source": [
    "#Ploting the means by group in a graph plot figure\n",
    "\n",
    "plt.figure(figsize=(22,3))\n",
    "for i in range(0,5):\n",
    "    plt.subplot(1,5,i+1)\n",
    "    plt.bar(data_clusters.columns, data_clusters.iloc[:,i], color='green', alpha=0.2)\n",
    "    plt.plot(data_clusters.columns,data_clusters.iloc[:,i], color='red')\n",
    "    plt.title('Group '+ str(i))\n",
    "    plt.xticks(rotation=45)\n",
    "    plt.ylim(0,4);\n"
   ]
  },
  {
   "cell_type": "code",
   "execution_count": null,
   "id": "48428f5e",
   "metadata": {},
   "outputs": [],
   "source": [
    "#Now we need to develop a interface to interact with the user\n",
    "#The interface will get data to predict the user's cluster\n",
    "\n",
    "import gradio as gr"
   ]
  },
  {
   "cell_type": "code",
   "execution_count": null,
   "id": "7c358cc7",
   "metadata": {
    "scrolled": true
   },
   "outputs": [],
   "source": [
    "#Reading survey's questions\n",
    "#The questions are splitted by ENTER command, so we use split(\"\\n\")\n",
    "d_questions = open(\"questions.txt\").read().split(\"\\n\")\n",
    "d_questions"
   ]
  },
  {
   "cell_type": "code",
   "execution_count": null,
   "id": "1c3bbed7",
   "metadata": {
    "scrolled": false
   },
   "outputs": [],
   "source": [
    "#Obtaining only the questions\n",
    "questions = []\n",
    "for q in d_questions:\n",
    "    q = str(q)\n",
    "    #get all sentence after \\t command and lstrip to remove blank spaces\n",
    "    questions.append(q[q.find(\"\\t\"):].lstrip())\n",
    "questions"
   ]
  },
  {
   "cell_type": "code",
   "execution_count": null,
   "id": "1c31d6b6",
   "metadata": {
    "scrolled": true
   },
   "outputs": [],
   "source": [
    "#Create a list that receives data by the user\n",
    "inputs_questions = []\n",
    "for q in questions:\n",
    "    obj_input = gr.inputs.Slider(minimum = 1, maximum = 5, step = 1,default = 3, label=q)\n",
    "    inputs_questions.append(obj_input)"
   ]
  },
  {
   "cell_type": "code",
   "execution_count": null,
   "id": "ad69d1e2",
   "metadata": {
    "scrolled": true
   },
   "outputs": [],
   "source": [
    "#Create a interface with gradio\n",
    "def predict(*outputs_questions):\n",
    "    outputs_questions = np.array(outputs_questions).reshape(1,-1)\n",
    "    return k_fit.predict(outputs_questions)\n",
    "\n",
    "iface = gr.Interface(\n",
    "                    fn = predict,\n",
    "                    title = \"Big Five Personality\",\n",
    "                    description = \"Personality Traits Detection System. The scale was labeled 1=Disagree, 3=Neutral, 5=Agree.\",\n",
    "                    inputs = inputs_questions,\n",
    "                    outputs = \"text\")\n",
    "iface.launch(share=True)"
   ]
  }
 ],
 "metadata": {
  "kernelspec": {
   "display_name": "Python 3 (ipykernel)",
   "language": "python",
   "name": "python3"
  },
  "language_info": {
   "codemirror_mode": {
    "name": "ipython",
    "version": 3
   },
   "file_extension": ".py",
   "mimetype": "text/x-python",
   "name": "python",
   "nbconvert_exporter": "python",
   "pygments_lexer": "ipython3",
   "version": "3.9.12"
  }
 },
 "nbformat": 4,
 "nbformat_minor": 5
}
